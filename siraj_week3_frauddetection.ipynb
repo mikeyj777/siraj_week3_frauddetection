{
 "cells": [
  {
   "cell_type": "code",
   "execution_count": 48,
   "metadata": {
    "scrolled": false
   },
   "outputs": [],
   "source": [
    "#there were several concepts that I was new to, including the Panda's operation to replace NaN's as well as memory reduction.\n",
    "#Kartik Athale shared some code, so I am employing some of his code here.\n",
    "#as the main goal is to best fit the data, I will mainly be targeting on attempting to improve fit of the LogisticRegression model by \n",
    "#analyzing sensitivity to error tolerance.\n",
    "\n",
    "import pandas as pd\n",
    "import numpy as np\n",
    "from sklearn.model_selection import StratifiedShuffleSplit\n",
    "from sklearn.linear_model import LogisticRegression\n",
    "from sklearn.metrics import classification_report\n",
    "from sklearn.decomposition import PCA\n",
    "from sklearn.preprocessing import StandardScaler\n",
    "from sklearn.linear_model import LogisticRegression\n",
    "from sklearn.externals import joblib\n",
    "from sklearn.preprocessing import LabelEncoder\n",
    "from sklearn.metrics import mean_squared_error, r2_score\n",
    "import math\n",
    "from copy import deepcopy\n",
    "from datetime import datetime\n",
    "import seaborn as sns\n",
    "import scipy.stats as stats\n",
    "import matplotlib.pyplot as plt"
   ]
  },
  {
   "cell_type": "code",
   "execution_count": 2,
   "metadata": {
    "scrolled": true
   },
   "outputs": [],
   "source": [
    "# Read the CSV file\n",
    "train_xact = pd.read_csv('data/train_transaction.csv')\n",
    "test_xact = pd.read_csv('data/test_transaction.csv')\n",
    "train_ident = pd.read_csv('data/train_identity.csv')\n",
    "test_ident = pd.read_csv('data/test_identity.csv')\n",
    "\n",
    "train= pd.merge(train_xact,train_ident,how=\"left\",on=\"TransactionID\")\n",
    "test = pd.merge(test_xact,test_ident,how=\"left\",on=\"TransactionID\")\n"
   ]
  },
  {
   "cell_type": "code",
   "execution_count": 3,
   "metadata": {
    "scrolled": true
   },
   "outputs": [
    {
     "name": "stdout",
     "output_type": "stream",
     "text": [
      "data loaded...\n"
     ]
    }
   ],
   "source": [
    "print('data loaded...')"
   ]
  },
  {
   "cell_type": "code",
   "execution_count": 4,
   "metadata": {},
   "outputs": [
    {
     "name": "stdout",
     "output_type": "stream",
     "text": [
      "Mem. usage decreased to 650.48 Mb (66.8% reduction)\n",
      "Mem. usage decreased to 565.37 Mb (66.3% reduction)\n"
     ]
    }
   ],
   "source": [
    "#all credit to Kartik Athale (https://www.kaggle.com/kartikathale/fraud-detection-eda-basic-logistic-regression)\n",
    "\n",
    "\n",
    "def reduce_mem_usage(df, verbose=True):\n",
    "    numerics = ['int16', 'int32', 'int64', 'float16', 'float32', 'float64']\n",
    "    start_mem = df.memory_usage().sum() / 1024**2    \n",
    "    for col in df.columns:\n",
    "        col_type = df[col].dtypes\n",
    "        if col_type in numerics:\n",
    "            c_min = df[col].min()\n",
    "            c_max = df[col].max()\n",
    "            if str(col_type)[:3] == 'int':\n",
    "                if c_min > np.iinfo(np.int8).min and c_max < np.iinfo(np.int8).max:\n",
    "                    df[col] = df[col].astype(np.int8)\n",
    "                elif c_min > np.iinfo(np.int16).min and c_max < np.iinfo(np.int16).max:\n",
    "                    df[col] = df[col].astype(np.int16)\n",
    "                elif c_min > np.iinfo(np.int32).min and c_max < np.iinfo(np.int32).max:\n",
    "                    df[col] = df[col].astype(np.int32)\n",
    "                elif c_min > np.iinfo(np.int64).min and c_max < np.iinfo(np.int64).max:\n",
    "                    df[col] = df[col].astype(np.int64)  \n",
    "            else:\n",
    "                if c_min > np.finfo(np.float16).min and c_max < np.finfo(np.float16).max:\n",
    "                    df[col] = df[col].astype(np.float16)\n",
    "                elif c_min > np.finfo(np.float32).min and c_max < np.finfo(np.float32).max:\n",
    "                    df[col] = df[col].astype(np.float32)\n",
    "                else:\n",
    "                    df[col] = df[col].astype(np.float64)    \n",
    "    end_mem = df.memory_usage().sum() / 1024**2\n",
    "    if verbose: print('Mem. usage decreased to {:5.2f} Mb ({:.1f}% reduction)'.format(end_mem, 100 * (start_mem - end_mem) / start_mem))\n",
    "    return df\n",
    "\n",
    "train=reduce_mem_usage(train)\n",
    "test=reduce_mem_usage(test)\n",
    "\n",
    "del train_xact\n",
    "del test_xact\n",
    "del train_ident\n",
    "del test_ident\n",
    "\n",
    "\n",
    "train_bkp = train.copy()\n",
    "test_bkp = test.copy()"
   ]
  },
  {
   "cell_type": "code",
   "execution_count": 5,
   "metadata": {},
   "outputs": [
    {
     "name": "stdout",
     "output_type": "stream",
     "text": [
      "memory reduction complete\n"
     ]
    }
   ],
   "source": [
    "print('memory reduction complete')"
   ]
  },
  {
   "cell_type": "code",
   "execution_count": 6,
   "metadata": {},
   "outputs": [],
   "source": [
    "train = train_bkp.copy()\n",
    "test = test_bkp.copy()"
   ]
  },
  {
   "cell_type": "code",
   "execution_count": 7,
   "metadata": {
    "scrolled": true
   },
   "outputs": [],
   "source": [
    "#split training targets and data.  remove transaction ID from training and split isFraud to represent the 'y' vector.\n",
    "\n",
    "train_y = train['isFraud']\n",
    "\n",
    "train = train.drop(['isFraud','TransactionID'], axis=1)\n",
    "test = test.drop(['TransactionID'], axis = 1)"
   ]
  },
  {
   "cell_type": "code",
   "execution_count": 8,
   "metadata": {},
   "outputs": [],
   "source": [
    "#preprocessing (docs appear to describe one-hot encoding: taking training and test data field which are non-numeric and encoding a number to show if being used).\n",
    "\n",
    "for f in train.columns:\n",
    "    if train[f].dtype=='object' or test[f].dtype=='object': \n",
    "        lbl = LabelEncoder()\n",
    "        lbl.fit(list(train[f].values) + list(test[f].values))\n",
    "        train[f] = lbl.transform(list(train[f].values))\n",
    "        test[f] = lbl.transform(list(test[f].values))\n"
   ]
  },
  {
   "cell_type": "code",
   "execution_count": 9,
   "metadata": {},
   "outputs": [],
   "source": [
    "train_bkp2 = train.copy()\n",
    "test_bkp2 = test.copy()"
   ]
  },
  {
   "cell_type": "code",
   "execution_count": 10,
   "metadata": {},
   "outputs": [
    {
     "name": "stdout",
     "output_type": "stream",
     "text": [
      "['dist1' 'dist2' 'D5' 'D6' 'D7' 'D8' 'D9' 'D12' 'D13' 'D14' 'V138' 'V139'\n",
      " 'V140' 'V141' 'V142' 'V143' 'V144' 'V145' 'V146' 'V147' 'V148' 'V149'\n",
      " 'V150' 'V151' 'V152' 'V153' 'V154' 'V155' 'V156' 'V157' 'V158' 'V159'\n",
      " 'V160' 'V161' 'V162' 'V163' 'V164' 'V165' 'V166' 'V167' 'V168' 'V169'\n",
      " 'V170' 'V171' 'V172' 'V173' 'V174' 'V175' 'V176' 'V177' 'V178' 'V179'\n",
      " 'V180' 'V181' 'V182' 'V183' 'V184' 'V185' 'V186' 'V187' 'V188' 'V189'\n",
      " 'V190' 'V191' 'V192' 'V193' 'V194' 'V195' 'V196' 'V197' 'V198' 'V199'\n",
      " 'V200' 'V201' 'V202' 'V203' 'V204' 'V205' 'V206' 'V207' 'V208' 'V209'\n",
      " 'V210' 'V211' 'V212' 'V213' 'V214' 'V215' 'V216' 'V217' 'V218' 'V219'\n",
      " 'V220' 'V221' 'V222' 'V223' 'V224' 'V225' 'V226' 'V227' 'V228' 'V229'\n",
      " 'V230' 'V231' 'V232' 'V233' 'V234' 'V235' 'V236' 'V237' 'V238' 'V239'\n",
      " 'V240' 'V241' 'V242' 'V243' 'V244' 'V245' 'V246' 'V247' 'V248' 'V249'\n",
      " 'V250' 'V251' 'V252' 'V253' 'V254' 'V255' 'V256' 'V257' 'V258' 'V259'\n",
      " 'V260' 'V261' 'V262' 'V263' 'V264' 'V265' 'V266' 'V267' 'V268' 'V269'\n",
      " 'V270' 'V271' 'V272' 'V273' 'V274' 'V275' 'V276' 'V277' 'V278' 'V322'\n",
      " 'V323' 'V324' 'V325' 'V326' 'V327' 'V328' 'V329' 'V330' 'V331' 'V332'\n",
      " 'V333' 'V334' 'V335' 'V336' 'V337' 'V338' 'V339' 'id_01' 'id_02' 'id_03'\n",
      " 'id_04' 'id_05' 'id_06' 'id_07' 'id_08' 'id_09' 'id_10' 'id_11' 'id_13'\n",
      " 'id_14' 'id_17' 'id_18' 'id_19' 'id_20' 'id_21' 'id_22' 'id_24' 'id_25'\n",
      " 'id_26' 'id_32']\n"
     ]
    }
   ],
   "source": [
    "### remove crap columns.  Fill NaNs and infs  \n",
    "#more credit to Kartik\n",
    "\n",
    "null_percent = train.isnull().sum()/train.shape[0]*100\n",
    "cols_to_drop = np.array(null_percent[null_percent > 50].index)\n",
    "\n",
    "def trimandfillnanandinfs(df, cols_to_drop):\n",
    "    df = df.drop(cols_to_drop, axis=1)\n",
    "    df = df.fillna(-999)\n",
    "    df = df.replace([np.inf, -np.inf], -999)\n",
    "    return df\n",
    "\n",
    "train = trimandfillnanandinfs(train, cols_to_drop)\n",
    "test = trimandfillnanandinfs(test, cols_to_drop)\n",
    "print(cols_to_drop)"
   ]
  },
  {
   "cell_type": "code",
   "execution_count": 11,
   "metadata": {},
   "outputs": [],
   "source": [
    "#unsure the benefit of scaling int values.  it may improve things, but I'm omitting them from this method\n",
    "\n",
    "#https://www.data-blogger.com/2017/06/15/fraud-detection-a-simple-machine-learning-approach/\n",
    "\n",
    "#wolud love to normalize data, but keep getting \"NaNs\" for means\n",
    "\n",
    "# def normalize(df):\n",
    "    \n",
    "    \n",
    "#     floats = ['float16', 'float32', 'float64']\n",
    "#     for col in df.columns:\n",
    "#         col_type = df[col].dtypes\n",
    "#         if col_type in floats:\n",
    "#             print(col, df[col].mean(), df[col].std())\n",
    "# #             df[col] -= df[col].mean()\n",
    "# #             df[col] /= df[col].std()\n",
    "\n",
    "#     return df\n",
    "\n",
    "# train = normalize(train)\n",
    "# print('_____')\n",
    "# test = normalize(test)"
   ]
  },
  {
   "cell_type": "code",
   "execution_count": 12,
   "metadata": {},
   "outputs": [],
   "source": [
    "train_X = train.copy()\n",
    "test_X = test.copy()\n",
    "test_y = np.ones(test_X.shape[0])\n"
   ]
  },
  {
   "cell_type": "code",
   "execution_count": 13,
   "metadata": {},
   "outputs": [
    {
     "name": "stdout",
     "output_type": "stream",
     "text": [
      "0    0\n",
      "1    0\n",
      "2    0\n",
      "3    0\n",
      "4    0\n",
      "Name: isFraud, dtype: int8\n"
     ]
    }
   ],
   "source": [
    "print(train_y.head())"
   ]
  },
  {
   "cell_type": "code",
   "execution_count": 14,
   "metadata": {},
   "outputs": [],
   "source": [
    "sns.set(style=\"darkgrid\")\n",
    "train_viz= train.copy()\n",
    "fraudarr = np.asarray(train_y)\n",
    "train_viz['isFraud'] = fraudarr\n"
   ]
  },
  {
   "cell_type": "code",
   "execution_count": 49,
   "metadata": {},
   "outputs": [
    {
     "name": "stderr",
     "output_type": "stream",
     "text": [
      "c:\\users\\u773253\\appdata\\local\\programs\\python\\python37\\lib\\site-packages\\scipy\\stats\\stats.py:1713: FutureWarning: Using a non-tuple sequence for multidimensional indexing is deprecated; use `arr[tuple(seq)]` instead of `arr[seq]`. In the future this will be interpreted as an array index, `arr[np.array(seq)]`, which will result either in an error or a different result.\n",
      "  return np.add.reduce(sorted[indexer] * weights, axis=axis) / sumval\n",
      "c:\\users\\u773253\\appdata\\local\\programs\\python\\python37\\lib\\site-packages\\seaborn\\axisgrid.py:1847: UserWarning: JointGrid annotation is deprecated and will be removed in a future release.\n",
      "  warnings.warn(UserWarning(msg))\n",
      "c:\\users\\u773253\\appdata\\local\\programs\\python\\python37\\lib\\site-packages\\numpy\\core\\fromnumeric.py:83: RuntimeWarning: overflow encountered in reduce\n",
      "  return ufunc.reduce(obj, axis, dtype, out, **passkwargs)\n"
     ]
    },
    {
     "data": {
      "image/png": "[encoded data removed]",
      "text/plain": [
       "<Figure size 432x432 with 3 Axes>"
      ]
     },
     "metadata": {},
     "output_type": "display_data"
    },
    {
     "name": "stdout",
     "output_type": "stream",
     "text": [
      "time to plot:  0:01:37.580084\n"
     ]
    }
   ],
   "source": [
    "t0 = datetime.now()\n",
    "#taking log because of large range of data values.\n",
    "train_viz['log TransactionAmt'] = np.log(train_viz['TransactionAmt'])\n",
    "\n",
    "sns.set(style=\"darkgrid\", color_codes=True)\n",
    "j = sns.jointplot(data=train_viz, x='log TransactionAmt', y='isFraud', color='g', kind='reg')\n",
    "j.annotate(stats.pearsonr)\n",
    "plt.show()\n",
    "\n",
    "print('time to plot:  {}'.format(datetime.now() - t0))"
   ]
  },
  {
   "cell_type": "code",
   "execution_count": 50,
   "metadata": {
    "scrolled": true
   },
   "outputs": [],
   "source": [
    "#Visually and statistically, there appears to be no correlation between Transaction amount and fraudulent transactions.\n",
    "#This was also (frustratingly) the case for any other single variable that I tested against 'isFraud'."
   ]
  },
  {
   "cell_type": "code",
   "execution_count": 18,
   "metadata": {
    "scrolled": true
   },
   "outputs": [
    {
     "name": "stdout",
     "output_type": "stream",
     "text": [
      "new model\n",
      "time to instantiate:  0:00:00.000998\n"
     ]
    },
    {
     "name": "stderr",
     "output_type": "stream",
     "text": [
      "c:\\users\\u773253\\appdata\\local\\programs\\python\\python37\\lib\\site-packages\\sklearn\\linear_model\\logistic.py:432: FutureWarning: Default solver will be changed to 'lbfgs' in 0.22. Specify a solver to silence this warning.\n",
      "  FutureWarning)\n"
     ]
    },
    {
     "name": "stdout",
     "output_type": "stream",
     "text": [
      "time to fit:  0:00:27.759612\n",
      "time to predict:  0:00:02.441821\n",
      "3 0.9999625018009004\n",
      "new model\n",
      "time to instantiate:  0:00:00\n"
     ]
    },
    {
     "name": "stderr",
     "output_type": "stream",
     "text": [
      "c:\\users\\u773253\\appdata\\local\\programs\\python\\python37\\lib\\site-packages\\sklearn\\linear_model\\logistic.py:432: FutureWarning: Default solver will be changed to 'lbfgs' in 0.22. Specify a solver to silence this warning.\n",
      "  FutureWarning)\n"
     ]
    },
    {
     "name": "stdout",
     "output_type": "stream",
     "text": [
      "time to fit:  0:01:27.611259\n",
      "time to predict:  0:00:01.081120\n",
      "4 0.9994296326558001\n",
      "new model\n",
      "time to instantiate:  0:00:00\n"
     ]
    },
    {
     "name": "stderr",
     "output_type": "stream",
     "text": [
      "c:\\users\\u773253\\appdata\\local\\programs\\python\\python37\\lib\\site-packages\\sklearn\\linear_model\\logistic.py:432: FutureWarning: Default solver will be changed to 'lbfgs' in 0.22. Specify a solver to silence this warning.\n",
      "  FutureWarning)\n",
      "c:\\users\\u773253\\appdata\\local\\programs\\python\\python37\\lib\\site-packages\\sklearn\\svm\\base.py:922: ConvergenceWarning: Liblinear failed to converge, increase the number of iterations.\n",
      "  \"the number of iterations.\", ConvergenceWarning)\n"
     ]
    },
    {
     "name": "stdout",
     "output_type": "stream",
     "text": [
      "time to fit:  0:03:19.027142\n",
      "time to predict:  0:00:01.266751\n",
      "5 0.9982217959269062\n",
      "new model\n",
      "time to instantiate:  0:00:00\n"
     ]
    },
    {
     "name": "stderr",
     "output_type": "stream",
     "text": [
      "c:\\users\\u773253\\appdata\\local\\programs\\python\\python37\\lib\\site-packages\\sklearn\\linear_model\\logistic.py:432: FutureWarning: Default solver will be changed to 'lbfgs' in 0.22. Specify a solver to silence this warning.\n",
      "  FutureWarning)\n",
      "c:\\users\\u773253\\appdata\\local\\programs\\python\\python37\\lib\\site-packages\\sklearn\\svm\\base.py:922: ConvergenceWarning: Liblinear failed to converge, increase the number of iterations.\n",
      "  \"the number of iterations.\", ConvergenceWarning)\n"
     ]
    },
    {
     "name": "stdout",
     "output_type": "stream",
     "text": [
      "time to fit:  0:03:19.777223\n",
      "time to predict:  0:00:01.491317\n",
      "6 0.9982217959269062\n",
      "new model\n",
      "time to instantiate:  0:00:00\n"
     ]
    },
    {
     "name": "stderr",
     "output_type": "stream",
     "text": [
      "c:\\users\\u773253\\appdata\\local\\programs\\python\\python37\\lib\\site-packages\\sklearn\\linear_model\\logistic.py:432: FutureWarning: Default solver will be changed to 'lbfgs' in 0.22. Specify a solver to silence this warning.\n",
      "  FutureWarning)\n",
      "c:\\users\\u773253\\appdata\\local\\programs\\python\\python37\\lib\\site-packages\\sklearn\\svm\\base.py:922: ConvergenceWarning: Liblinear failed to converge, increase the number of iterations.\n",
      "  \"the number of iterations.\", ConvergenceWarning)\n"
     ]
    },
    {
     "name": "stdout",
     "output_type": "stream",
     "text": [
      "time to fit:  0:03:08.976459\n",
      "time to predict:  0:00:01.048712\n",
      "7 0.9982217959269062\n",
      "new model\n",
      "time to instantiate:  0:00:00\n"
     ]
    },
    {
     "name": "stderr",
     "output_type": "stream",
     "text": [
      "c:\\users\\u773253\\appdata\\local\\programs\\python\\python37\\lib\\site-packages\\sklearn\\linear_model\\logistic.py:432: FutureWarning: Default solver will be changed to 'lbfgs' in 0.22. Specify a solver to silence this warning.\n",
      "  FutureWarning)\n",
      "c:\\users\\u773253\\appdata\\local\\programs\\python\\python37\\lib\\site-packages\\sklearn\\svm\\base.py:922: ConvergenceWarning: Liblinear failed to converge, increase the number of iterations.\n",
      "  \"the number of iterations.\", ConvergenceWarning)\n"
     ]
    },
    {
     "name": "stdout",
     "output_type": "stream",
     "text": [
      "time to fit:  0:02:46.569757\n",
      "time to predict:  0:00:00.991697\n",
      "8 0.9982217959269062\n",
      "new model\n",
      "time to instantiate:  0:00:00\n"
     ]
    },
    {
     "name": "stderr",
     "output_type": "stream",
     "text": [
      "c:\\users\\u773253\\appdata\\local\\programs\\python\\python37\\lib\\site-packages\\sklearn\\linear_model\\logistic.py:432: FutureWarning: Default solver will be changed to 'lbfgs' in 0.22. Specify a solver to silence this warning.\n",
      "  FutureWarning)\n",
      "c:\\users\\u773253\\appdata\\local\\programs\\python\\python37\\lib\\site-packages\\sklearn\\svm\\base.py:922: ConvergenceWarning: Liblinear failed to converge, increase the number of iterations.\n",
      "  \"the number of iterations.\", ConvergenceWarning)\n"
     ]
    },
    {
     "name": "stdout",
     "output_type": "stream",
     "text": [
      "time to fit:  0:03:05.289760\n",
      "time to predict:  0:00:01.194812\n",
      "9 0.9982217959269062\n",
      "new model\n",
      "time to instantiate:  0:00:00.000999\n"
     ]
    },
    {
     "name": "stderr",
     "output_type": "stream",
     "text": [
      "c:\\users\\u773253\\appdata\\local\\programs\\python\\python37\\lib\\site-packages\\sklearn\\linear_model\\logistic.py:432: FutureWarning: Default solver will be changed to 'lbfgs' in 0.22. Specify a solver to silence this warning.\n",
      "  FutureWarning)\n",
      "c:\\users\\u773253\\appdata\\local\\programs\\python\\python37\\lib\\site-packages\\sklearn\\svm\\base.py:922: ConvergenceWarning: Liblinear failed to converge, increase the number of iterations.\n",
      "  \"the number of iterations.\", ConvergenceWarning)\n"
     ]
    },
    {
     "name": "stdout",
     "output_type": "stream",
     "text": [
      "time to fit:  0:02:44.360743\n",
      "time to predict:  0:00:00.989360\n",
      "10 0.9982217959269062\n"
     ]
    }
   ],
   "source": [
    "mses = []\n",
    "models = []\n",
    "\n",
    "for tol_mag in range(3,11):\n",
    "    print(\"new model\")\n",
    "    t0 = datetime.now()\n",
    "    model = LogisticRegression(tol=10**-tol_mag)\n",
    "    print(\"time to instantiate: \", datetime.now()-t0)\n",
    "    t1 = datetime.now()\n",
    "    model.fit(train_X, train_y)\n",
    "    t2 = datetime.now()\n",
    "    print(\"time to fit: \", t2-t1)\n",
    "    pred = model.predict(test_X)\n",
    "    print(\"time to predict: \", datetime.now()-t2)\n",
    "    mse = mean_squared_error(test_y, pred)\n",
    "    print(tol_mag, mse)\n",
    "    mses.append(mse)\n",
    "    models.append(deepcopy(model))\n",
    "\n",
    "\n"
   ]
  },
  {
   "cell_type": "code",
   "execution_count": 21,
   "metadata": {},
   "outputs": [],
   "source": [
    "minmseidx = 0\n",
    "for idx in range(1, len(mses)):\n",
    "    if mses[idx] < mses[minmseidx]:\n",
    "        minmseidx = idx\n",
    "bestmodel = models[minmseidx]"
   ]
  },
  {
   "cell_type": "code",
   "execution_count": 24,
   "metadata": {},
   "outputs": [
    {
     "name": "stdout",
     "output_type": "stream",
     "text": [
      "best fit based on control of error tolerance is to employ tol = 10**-5.\n"
     ]
    }
   ],
   "source": [
    "print(\"best fit based on control of error tolerance is to employ tol = 10**-{}.\".format(minmseidx+3))"
   ]
  }
 ],
 "metadata": {
  "kernelspec": {
   "display_name": "Python 3",
   "language": "python",
   "name": "python3"
  },
  "language_info": {
   "codemirror_mode": {
    "name": "ipython",
    "version": 3
   },
   "file_extension": ".py",
   "mimetype": "text/x-python",
   "name": "python",
   "nbconvert_exporter": "python",
   "pygments_lexer": "ipython3",
   "version": "3.7.0"
  }
 },
 "nbformat": 4,
 "nbformat_minor": 2
}
